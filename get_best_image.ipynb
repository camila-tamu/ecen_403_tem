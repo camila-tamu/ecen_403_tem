{
 "cells": [
  {
   "cell_type": "code",
   "execution_count": null,
   "id": "a3107d4c-fc0a-4ea7-b034-ebf52eba936a",
   "metadata": {},
   "outputs": [],
   "source": [
    "import numpy as np\n",
    "from scipy.optimize import curve_fit\n",
    "global path\n",
    "from scipy.optimize import least_squares\n",
    "global path\n",
    "from PIL import Image\n",
    "import numpy\n",
    "import pandas as pd\n",
    "import os\n",
    "def get_best_image(filename, images):\n",
    "        def linear_func(x, a, b):\n",
    "            return a * x + b\n",
    "        #opening both the input file and the \n",
    "        #simulated files\n",
    "        img = Image.open(filename)\n",
    "        sim_file = '% s' % images\n",
    "        add_on=\"/\"\n",
    "        file_tif = ''.join([add_on ,sim_file])\n",
    "        global full_path_tif\n",
    "        full_path_tif =''.join([path ,file_tif])\n",
    "        img2 = Image.open(full_path_tif).convert('L')\n",
    "        imarray = numpy.array(img)\n",
    "        imarray2 = numpy.array(img2)\n",
    "        #reshape images into 1D arrays\n",
    "        flatten_image1 = imarray.reshape(-1) # flatten the array into a 1D vector\n",
    "        flatten_image2 = imarray2.reshape(-1) # flatten the array into a 1D vector\n",
    "        imarray = numpy.array(flatten_image1)\n",
    "        imarray2 = numpy.array(flatten_image2)\n",
    "        #using curve fit, best for non-linear least square fitting methods\n",
    "        params1, _ = curve_fit(linear_func, flatten_image1, flatten_image2)\n",
    "        #creating the desired linear function using the input picture\n",
    "        #and the paramters to create a line that should be comapred to\n",
    "        fitted_line = linear_func(flatten_image1, *params1)\n",
    "        mse = (np.mean((flatten_image2 - fitted_line) ** 2))/100\n",
    "        #print(full_path_tif)\n",
    "        #print(f'Mean Squared Error percentage: {mse}')\n",
    "        return mse, full_path_tif"
   ]
  },
  {
   "cell_type": "code",
   "execution_count": null,
   "id": "6541a4ff-745e-4ef9-9b1f-457e85b4f03f",
   "metadata": {},
   "outputs": [],
   "source": [
    "global path\n",
    "global full_path_tif\n",
    "from scipy.optimize import least_squares\n",
    "global path\n",
    "from PIL import Image\n",
    "import numpy\n",
    "import pandas as pd\n",
    "import os\n",
    "filename = 'C:/Users/Angelo Carrion/Exp_1.tif'\n",
    "list_num = []\n",
    "list_name = []\n",
    "for images in os.listdir(path):\n",
    "    # check if the image ends with tif \n",
    "    list_num.append(get_best_image(filename, images)[0])\n",
    "    list_name.append(get_best_image(filename, images)[1])\n",
    "min_value = min(list)\n",
    "min_value_name = list_name[list_num.index(min_value)]\n",
    "print(min_value)\n",
    "print(min_value_name)\n",
    "best_fit_image = '% s' %min_value_name\n",
    "img = Image.open(best_fit_image)\n",
    "img.show()"
   ]
  }
 ],
 "metadata": {
  "kernelspec": {
   "display_name": "Python 3 (ipykernel)",
   "language": "python",
   "name": "python3"
  },
  "language_info": {
   "codemirror_mode": {
    "name": "ipython",
    "version": 3
   },
   "file_extension": ".py",
   "mimetype": "text/x-python",
   "name": "python",
   "nbconvert_exporter": "python",
   "pygments_lexer": "ipython3",
   "version": "3.11.7"
  }
 },
 "nbformat": 4,
 "nbformat_minor": 5
}
