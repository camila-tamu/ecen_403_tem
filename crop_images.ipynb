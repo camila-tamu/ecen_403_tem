{
 "cells": [
  {
   "cell_type": "code",
   "execution_count": null,
   "id": "11acea98-48ea-4799-ab46-9ef3a2bb764e",
   "metadata": {},
   "outputs": [],
   "source": [
    "#use this to crop the simulation in the database\n",
    "global path\n",
    "from PIL import Image\n",
    "import numpy\n",
    "import pandas as pd\n",
    "import os\n",
    "print(path)\n",
    "for images in os.listdir(path):\n",
    "    # check if the image ends with tif\n",
    "    if (images.endswith(\".tif\")or images.endswith(\".tiff\")):\n",
    "        # display\n",
    "        # Open the TIFF image\n",
    "        sim_file = '% s' % images\n",
    "        add_on=\"/\"\n",
    "        file_tif = ''.join([add_on ,sim_file])\n",
    "        full_path_tif =''.join([path ,file_tif])\n",
    "        full_path = ''.join([path , add_on])\n",
    "        f=''.join([full_path, sim_file])\n",
    "        image = Image.open(f)\n",
    "        width, height = image.size\n",
    "        # Define the cropping amounts (left, top, right, bottom)\n",
    "        # Define the cropping coordinates (left, upper, right, lower)\n",
    "        left = 65\n",
    "        upper = 60\n",
    "        right = width - 50\n",
    "        lower = height - 60\n",
    "\n",
    "        # Crop the image\n",
    "        cropped_image = image.crop((left, upper, right, lower))\n",
    "        image.close()\n",
    "        # Save the cropped image\n",
    "        cropped_image.save(full_path+sim_file)"
   ]
  },
  {
   "cell_type": "code",
   "execution_count": null,
   "id": "801f7646-d017-456f-91a9-0cf105f1cff0",
   "metadata": {},
   "outputs": [],
   "source": [
    "#use this to crop the input file to make sure it is the same size at simulations \n",
    "global path\n",
    "sim_file = \"Exp_1.tif\"\n",
    "add_on=\"/\"\n",
    "file_tif = ''.join([add_on ,sim_file])\n",
    "full_path_tif =''.join([path ,file_tif])\n",
    "full_path = ''.join([path , add_on])\n",
    "f=''.join([full_path, sim_file])\n",
    "image = Image.open('C:/Users/Angelo Carrion/Exp_1.tif')\n",
    "width, height = image.size\n",
    "# Define the cropping amounts (left, top, right, bottom)\n",
    "# Define the cropping coordinates (left, upper, right, lower)\n",
    "left = 90\n",
    "upper = 65\n",
    "right = width - 37\n",
    "lower = height - 67\n",
    "\n",
    "# Crop the image\n",
    "cropped_image = image.crop((left, upper, right, lower))\n",
    "image.close()\n",
    "# Save the cropped image\n",
    "cropped_image.save('C:/Users/Angelo Carrion/Exp_1.tif')"
   ]
  }
 ],
 "metadata": {
  "kernelspec": {
   "display_name": "Python 3 (ipykernel)",
   "language": "python",
   "name": "python3"
  },
  "language_info": {
   "codemirror_mode": {
    "name": "ipython",
    "version": 3
   },
   "file_extension": ".py",
   "mimetype": "text/x-python",
   "name": "python",
   "nbconvert_exporter": "python",
   "pygments_lexer": "ipython3",
   "version": "3.11.7"
  }
 },
 "nbformat": 4,
 "nbformat_minor": 5
}
